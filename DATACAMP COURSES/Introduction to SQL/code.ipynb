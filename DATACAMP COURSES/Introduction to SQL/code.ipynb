{
 "cells": [
  {
   "cell_type": "code",
   "execution_count": null,
   "metadata": {},
   "outputs": [],
   "source": [
    "SELECT 'SQL'\n",
    "AS result;"
   ]
  },
  {
   "cell_type": "markdown",
   "metadata": {},
   "source": [
    "### Beginning your SQL journey\n",
    "\n",
    "Now that you're familiar with the interface, let's get straight into it.\n",
    "\n",
    "SQL, which stands for Structured Query Language, is a language for interacting with data stored in something called a relational database.\n",
    "\n",
    "You can think of a relational database as a collection of tables. A table is just a set of rows and columns, like a spreadsheet, which represents exactly one type of entity. For example, a table might represent employees in a company or purchases made, but not both.\n",
    "\n",
    "Each row, or record, of a table contains information about a single entity. For example, in a table representing employees, each row represents a single person. Each column, or field, of a table contains a single attribute for all rows in the table. For example, in a table representing employees, we might have a column containing first and last names for all employees."
   ]
  },
  {
   "cell_type": "markdown",
   "metadata": {},
   "source": [
    "### SELECTing single columns\n",
    "\n",
    "While SQL can be used to create and modify databases, the focus of this course will be querying databases. A query is a request for data from a database table (or combination of tables). Querying is an essential skill for a data scientist, since the data you need for your analyses will often live in databases.\n",
    "\n",
    "In SQL, you can select data from a table using a SELECT statement. For example, the following query selects the name column from the people table:\n",
    "\n",
    "SELECT name\n",
    "FROM people;\n",
    "\n",
    "In this query, SELECT and FROM are called keywords. In SQL, keywords are not case-sensitive, which means you can write the same query as:\n",
    "\n",
    "select name\n",
    "from people;\n",
    "\n",
    "That said, it's good practice to make SQL keywords uppercase to distinguish them from other parts of your query, like column and table names.\n",
    "\n",
    "It's also good practice (but not necessary for the exercises in this course) to include a semicolon at the end of your query. This tells SQL where the end of your query is!\n",
    "\n",
    "Remember, you can see the results of executing your query in the query result tab to the right!"
   ]
  },
  {
   "cell_type": "code",
   "execution_count": null,
   "metadata": {},
   "outputs": [],
   "source": [
    "## select title from films\n",
    "select title from films\n",
    "# Select the release_year column from the films table.\n",
    "SELECT release_year from films\n",
    "# Select the name of each person in the people table.\n",
    "select name from people"
   ]
  },
  {
   "cell_type": "markdown",
   "metadata": {},
   "source": [
    "### SELECTing multiple columns\n",
    "\n",
    "Well done! Now you know how to select single columns.\n",
    "\n",
    "In the real world, you will often want to select multiple columns. Luckily, SQL makes this really easy. To select multiple columns from a table, simply separate the column names with commas!\n",
    "\n",
    "For example, this query selects two columns, name and birthdate, from the people table:\n",
    "\n",
    "SELECT name, birthdate\n",
    "FROM people;\n",
    "\n",
    "Sometimes, you may want to select all columns from a table. Typing out every column name would be a pain, so there's a handy shortcut:\n",
    "\n",
    "SELECT *\n",
    "FROM people;\n",
    "\n",
    "If you only want to return a certain number of results, you can use the LIMIT keyword to limit the number of rows returned:\n",
    "\n",
    "SELECT *\n",
    "FROM people\n",
    "LIMIT 10;\n",
    "\n",
    "Before getting started with the instructions below, check out the column names in the films table by clicking on the films tab to the right!"
   ]
  },
  {
   "cell_type": "code",
   "execution_count": null,
   "metadata": {},
   "outputs": [],
   "source": [
    "# Get the title and release year for every film.\n",
    "SELECT title,release_year\n",
    "FROM films;\n",
    "#Get the title, release year and country for every film.\n",
    "SELECT title, release_year,country\n",
    "FROM films;\n",
    "#Get all columns from the films table.\n",
    "SELECT *\n",
    "FROM films;"
   ]
  },
  {
   "cell_type": "markdown",
   "metadata": {},
   "source": [
    "### SELECT DISTINCT\n",
    "\n",
    "Often your results will include many duplicate values. If you want to select all the unique values from a column, you can use the DISTINCT keyword.\n",
    "\n",
    "This might be useful if, for example, you're interested in knowing which languages are represented in the films table:\n",
    "\n",
    "SELECT DISTINCT language\n",
    "FROM films;\n",
    "\n",
    "Remember, you can check out the data in the tables by clicking on the tabs to the right under the editor!"
   ]
  },
  {
   "cell_type": "code",
   "execution_count": null,
   "metadata": {},
   "outputs": [],
   "source": [
    "# Get all the unique countries represented in the films table.\n",
    "select DISTINCT country from films \n",
    "# Get all the different film certifications from the films table.\n",
    "select distinct certification from films\n",
    "# Get the different types of film roles from the roles table.\n",
    "select distinct role from roles"
   ]
  },
  {
   "cell_type": "markdown",
   "metadata": {},
   "source": [
    "### Learning to COUNT\n",
    "\n",
    "What if you want to count the number of employees in your employees table? The COUNT statement lets you do this by returning the number of rows in one or more columns.\n",
    "\n",
    "For example, this code gives the number of rows in the people table:\n",
    "\n",
    "SELECT COUNT(*)\n",
    "FROM people;\n"
   ]
  },
  {
   "cell_type": "markdown",
   "metadata": {},
   "source": [
    "### Practice with COUNT\n",
    "\n",
    "As you've seen, COUNT(*) tells you how many rows are in a table. However, if you want to count the number of non-missing values in a particular column, you can call COUNT on just that column.\n",
    "\n",
    "For example, to count the number of birth dates present in the people table:\n",
    "\n",
    "SELECT COUNT(birthdate)\n",
    "FROM people;\n",
    "\n",
    "It's also common to combine COUNT with DISTINCT to count the number of distinct values in a column.\n",
    "\n",
    "For example, this query counts the number of distinct birth dates contained in the people table:\n",
    "\n",
    "SELECT COUNT(DISTINCT birthdate)\n",
    "FROM people;\n",
    "\n",
    "Let's get some practice with COUNT!"
   ]
  },
  {
   "cell_type": "code",
   "execution_count": null,
   "metadata": {},
   "outputs": [],
   "source": [
    "#Count the number of rows in the people table.\n",
    "select count(*) from people\n",
    "#Count the number of (non-missing) birth dates in the people table.\n",
    "SELECT COUNT(birthdate)\n",
    "FROM people;\n",
    "#Count the number of unique birth dates in the people table.\n",
    "SELECT  COUNT(distinct birthdate)\n",
    "FROM people;\n",
    "#Count the number of unique languages in the films table.\n",
    "select count(distinct language) from films\n",
    "#Count the number of unique countries in the films table.\n",
    "select count(distinct country) from films"
   ]
  },
  {
   "cell_type": "markdown",
   "metadata": {},
   "source": [
    "### Filtering results\n",
    "\n",
    "Congrats on finishing the first chapter! You now know how to select columns and perform basic counts. This chapter will focus on filtering your results.\n",
    "\n",
    "In SQL, the WHERE keyword allows you to filter based on both text and numeric values in a table. There are a few different comparison operators you can use:\n",
    "\n",
    "    = equal\n",
    "    <> not equal\n",
    "    < less than\n",
    "    > greater than\n",
    "    <= less than or equal to\n",
    "    >= greater than or equal to\n",
    "\n",
    "For example, you can filter text records such as title. The following code returns all films with the title 'Metropolis':\n",
    "\n",
    "SELECT title\n",
    "FROM films\n",
    "WHERE title = 'Metropolis';\n",
    "\n",
    "Notice that the WHERE clause always comes after the FROM statement!\n",
    "\n",
    "Note that in this course we will use <> and not != for the not equal operator, as per the SQL standard."
   ]
  },
  {
   "cell_type": "code",
   "execution_count": null,
   "metadata": {},
   "outputs": [],
   "source": [
    "#Get all details for all films released in 2016.\n",
    "SELECT *\n",
    "FROM films\n",
    "WHERE release_year = 2016;\n",
    "#Get the number of films released before 2000.\n",
    "SELECT count(*)\n",
    "FROM films\n",
    "WHERE release_year < 2000;\n",
    "#Get the title and release year of films released after 2000.\n",
    "select title,release_year\n",
    "from films\n",
    "where release_year>2000"
   ]
  },
  {
   "cell_type": "code",
   "execution_count": null,
   "metadata": {},
   "outputs": [],
   "source": [
    "#Get all details for all French language films.\n",
    "select * from films where language = 'French'\n",
    "#Get the name and birth date of the person born on November 11th, 1974. Remember to use ISO date format ('1974-11-11')!\n",
    "select name,birthdate from people where birthdate='1974-11-11'\n",
    "#Get the number of Hindi language films.\n",
    "select count(*)\n",
    "from films\n",
    "where language='Hindi'\n",
    "#Get all details for all films with an R certification.\n",
    "select * from films where certification='R'"
   ]
  },
  {
   "cell_type": "markdown",
   "metadata": {},
   "source": [
    "### WHERE AND\n",
    "\n",
    "Often, you'll want to select data based on multiple conditions. You can build up your WHERE queries by combining multiple conditions with the AND keyword.\n",
    "\n",
    "For example,\n",
    "\n",
    "SELECT title\n",
    "FROM films\n",
    "WHERE release_year > 1994\n",
    "AND release_year < 2000;\n",
    "\n",
    "gives you the titles of films released between 1994 and 2000.\n",
    "\n",
    "Note that you need to specify the column name separately for every AND condition, so the following would be invalid:\n",
    "\n",
    "SELECT title\n",
    "FROM films\n",
    "WHERE release_year > 1994 AND < 2000;\n"
   ]
  },
  {
   "cell_type": "code",
   "execution_count": null,
   "metadata": {},
   "outputs": [],
   "source": [
    "#Get the title and release year for all Spanish language films released before 2000.\n",
    "select title,release_year from films where \n",
    "language='Spanish'\n",
    "and release_year<2000\n",
    "#Get all details for Spanish language films released after 2000.\n",
    "select * from films where language='Spanish' and release_year>2000\n",
    "#Get all details for Spanish language films released after 2000, but before 2010.\n",
    "select * from films where language='Spanish' and release_year > 2000 AND release_year< 2010;"
   ]
  },
  {
   "cell_type": "markdown",
   "metadata": {},
   "source": [
    "### WHERE AND OR\n",
    "\n",
    "What if you want to select rows based on multiple conditions where some but not all of the conditions need to be met? For this, SQL has the OR operator.\n",
    "\n",
    "For example, the following returns all films released in either 1994 or 2000:\n",
    "\n",
    "SELECT title\n",
    "FROM films\n",
    "WHERE release_year = 1994\n",
    "OR release_year = 2000;\n",
    "\n",
    "Note that you need to specify the column for every OR condition, so the following is invalid:\n",
    "\n",
    "SELECT title\n",
    "FROM films\n",
    "WHERE release_year = 1994 OR 2000;\n",
    "\n",
    "When combining AND and OR, be sure to enclose the individual clauses in parentheses, like so:\n",
    "\n",
    "SELECT title\n",
    "FROM films\n",
    "WHERE (release_year = 1994 OR release_year = 1995)\n",
    "AND (certification = 'PG' OR certification = 'R');\n"
   ]
  },
  {
   "cell_type": "code",
   "execution_count": null,
   "metadata": {},
   "outputs": [],
   "source": [
    "select title,release_year\n",
    "from films\n",
    "where release_year>=1990 and release_year<2000\n",
    "and (language='Spanish' or language='French')\n",
    "and gross>2000000"
   ]
  },
  {
   "cell_type": "markdown",
   "metadata": {},
   "source": [
    "### BETWEEN\n",
    "\n",
    "As you've learned, you can use the following query to get titles of all films released in and between 1994 and 2000:\n",
    "\n",
    "SELECT title\n",
    "FROM films\n",
    "WHERE release_year >= 1994\n",
    "AND release_year <= 2000;\n",
    "\n",
    "Checking for ranges like this is very common, so in SQL the BETWEEN keyword provides a useful shorthand for filtering values within a specified range. This query is equivalent to the one above:\n",
    "\n",
    "SELECT title\n",
    "FROM films\n",
    "WHERE release_year\n",
    "BETWEEN 1994 AND 2000;\n"
   ]
  },
  {
   "cell_type": "code",
   "execution_count": null,
   "metadata": {},
   "outputs": [],
   "source": [
    "select title,release_year\n",
    "from films\n",
    "where release_year between 1990 and 2000\n",
    "and budget >100000000\n",
    "and (language='Spanish' or language='French')"
   ]
  },
  {
   "cell_type": "markdown",
   "metadata": {},
   "source": [
    "### WHERE IN\n",
    "\n",
    "As you've seen, WHERE is very useful for filtering results. However, if you want to filter based on many conditions, WHERE can get unwieldy. For example:\n",
    "\n",
    "SELECT name\n",
    "FROM kids\n",
    "WHERE age = 2\n",
    "OR age = 4\n",
    "OR age = 6\n",
    "OR age = 8\n",
    "OR age = 10;\n",
    "\n",
    "Enter the IN operator! The IN operator allows you to specify multiple values in a WHERE clause, making it easier and quicker to specify multiple OR conditions! Neat, right?\n",
    "\n",
    "So, the above example would become simply:\n",
    "\n",
    "SELECT name\n",
    "FROM kids\n",
    "WHERE age IN (2, 4, 6, 8, 10);\n"
   ]
  },
  {
   "cell_type": "code",
   "execution_count": null,
   "metadata": {},
   "outputs": [],
   "source": [
    "#Get the title and release year of all films released in 1990 or 2000 that were longer than two hours. Remember, duration is in minutes!\n",
    "select title,release_year\n",
    "from films\n",
    "where duration>120 and\n",
    "(release_year=1990 or release_year=2000)\n",
    "#Get the title and language of all films which were in English, Spanish, or French.\n",
    "select title,language\n",
    "from films\n",
    "where language in('English','Spanish','French')\n",
    "#Get the title and certification of all films with an NC-17 or R certification.\n",
    "select title,certification\n",
    "from films\n",
    "where certification in('NC-17','R')"
   ]
  },
  {
   "cell_type": "markdown",
   "metadata": {},
   "source": [
    "### Introduction to NULL and IS NULL\n",
    "\n",
    "In SQL, NULL represents a missing or unknown value. You can check for NULL values using the expression IS NULL. For example, to count the number of missing birth dates in the people table:\n",
    "\n",
    "SELECT COUNT(*)\n",
    "FROM people\n",
    "WHERE birthdate IS NULL;\n",
    "\n",
    "As you can see, IS NULL is useful when combined with WHERE to figure out what data you're missing.\n",
    "\n",
    "Sometimes, you'll want to filter out missing values so you only get results which are not NULL. To do this, you can use the IS NOT NULL operator."
   ]
  },
  {
   "cell_type": "code",
   "execution_count": null,
   "metadata": {},
   "outputs": [],
   "source": [
    "#Get the names of people who are still alive, i.e. whose death date is missing.\n",
    "select name\n",
    "from people where deathdate is NULL\n",
    "#Get the title of every film which doesn't have a budget associated with it.\n",
    "select title from films where budget is null\n",
    "#Get the number of films which don't have a language associated with them.\n",
    "select count(*) from films where language is null"
   ]
  },
  {
   "cell_type": "markdown",
   "metadata": {},
   "source": [
    "### LIKE and NOT LIKE\n",
    "\n",
    "As you've seen, the WHERE clause can be used to filter text data. However, so far you've only been able to filter by specifying the exact text you're interested in. In the real world, often you'll want to search for a pattern rather than a specific text string.\n",
    "\n",
    "In SQL, the LIKE operator can be used in a WHERE clause to search for a pattern in a column. To accomplish this, you use something called a wildcard as a placeholder for some other values. There are two wildcards you can use with LIKE:\n",
    "\n",
    "The % wildcard will match zero, one, or many characters in text. For example, the following query matches companies like 'Data', 'DataC' 'DataCamp', 'DataMind', and so on:\n",
    "\n",
    "SELECT name\n",
    "FROM companies\n",
    "WHERE name LIKE 'Data%';\n",
    "\n",
    "The _ wildcard will match a single character. For example, the following query matches companies like 'DataCamp', 'DataComp', and so on:\n",
    "\n",
    "SELECT name\n",
    "FROM companies\n",
    "WHERE name LIKE 'DataC_mp';\n"
   ]
  },
  {
   "cell_type": "code",
   "execution_count": null,
   "metadata": {},
   "outputs": [],
   "source": [
    "#Get the names of all people whose names begin with 'B'. The pattern you need is 'B%'.\n",
    "select name from people where name like 'B%'\n",
    "#Get the names of people whose names have 'r' as the second letter. The pattern you need is '_r%'.\n",
    "select name from people where name like '_r%'\n",
    "#Get the names of people whose names don't start with A. The pattern you need is 'A%'.\n",
    "select name from people where name not like 'A%'"
   ]
  },
  {
   "cell_type": "code",
   "execution_count": null,
   "metadata": {},
   "outputs": [],
   "source": [
    "#Use the SUM function to get the total amount grossed by all films.\n",
    "select sum(gross)\n",
    "from films\n",
    "#Get the average amount grossed by all films.\n",
    "select avg(gross)\n",
    "from films\n",
    "#Get the amount grossed by the worst performing film.\n",
    "select min(gross)\n",
    "from films\n",
    "#Get the amount grossed by the best performing film.\n",
    "select max(gross)\n",
    "from films"
   ]
  },
  {
   "cell_type": "markdown",
   "metadata": {},
   "source": [
    "### Combining aggregate functions with WHERE\n",
    "\n",
    "Aggregate functions can be combined with the WHERE clause to gain further insights from your data.\n",
    "\n",
    "For example, to get the total budget of movies made in the year 2010 or later:\n",
    "\n",
    "SELECT SUM(budget)\n",
    "FROM films\n",
    "WHERE release_year >= 2010;\n"
   ]
  },
  {
   "cell_type": "code",
   "execution_count": null,
   "metadata": {},
   "outputs": [],
   "source": [
    "#Use the SUM function to get the total amount grossed by all films made in the year 2000 or later.\n",
    "select sum(gross)\n",
    "from films\n",
    "where release_year >=2000\n",
    "#Get the average amount grossed by all films whose titles start with the letter 'A'.\n",
    "select avg(gross)\n",
    "from films\n",
    "where title like 'A%'\n",
    "#Get the amount grossed by the worst performing film in 1994.\n",
    "select min(gross)\n",
    "from films\n",
    "where release_year=1994\n",
    "#Get the amount grossed by the best performing film between 2000 and 2012, inclusive.\n",
    "select max(gross)\n",
    "from films\n",
    "where release_year between 2000 and 2012"
   ]
  },
  {
   "cell_type": "markdown",
   "metadata": {},
   "source": [
    "### It's AS simple AS aliasing\n",
    "\n",
    "You may have noticed in the first exercise of this chapter that the column name of your result was just the name of the function you used. For example,\n",
    "\n",
    "SELECT MAX(budget)\n",
    "FROM films;\n",
    "\n",
    "gives you a result with one column, named max. But what if you use two functions like this?\n",
    "\n",
    "SELECT MAX(budget), MAX(duration)\n",
    "FROM films;\n",
    "\n",
    "Well, then you'd have two columns named max, which isn't very useful!\n",
    "\n",
    "To avoid situations like this, SQL allows you to do something called aliasing. Aliasing simply means you assign a temporary name to something. To alias, you use the AS keyword, which you've already seen earlier in this course.\n",
    "\n",
    "For example, in the above example we could use aliases to make the result clearer:\n",
    "\n",
    "SELECT MAX(budget) AS max_budget,\n",
    "       MAX(duration) AS max_duration\n",
    "FROM films;\n"
   ]
  },
  {
   "cell_type": "code",
   "execution_count": null,
   "metadata": {},
   "outputs": [],
   "source": [
    "#Get the title and net profit (the amount a film grossed, minus its budget) for all films. Alias the net profit as net_profit.\n",
    "select title,gross - budget as net_profit from films\n",
    "#Get the title and duration in hours for all films. The duration is in minutes, so you'll need to divide by 60.0 to get the duration in hours. Alias the duration in hours as duration_hours.\n",
    "select title,duration/60.0 as duration_hours from films\n",
    "#Get the average duration in hours for all films, aliased as avg_duration_hours.\n",
    "select AVG(duration) / 60.0 AS avg_duration_hours \n",
    "from films"
   ]
  },
  {
   "cell_type": "code",
   "execution_count": null,
   "metadata": {},
   "outputs": [],
   "source": [
    "#Get the percentage of people who are no longer alive. Alias the result as percentage_dead. Remember to use 100.0 and not 100!\n",
    "-- get the count(deathdate) and multiply by 100.0\n",
    "select count(deathdate)* 100.0 /count(*) as percentage_dead from people\n",
    "-- then divide by count(*)\n",
    "#Get the number of years between the newest film and oldest film. Alias the result as difference.\n",
    "select max(release_year)-min(release_year) as difference from films\n",
    "#Get the number of decades the films table covers. Alias the result as number_of_decades. The top half of your fraction should be enclosed in parentheses.\n",
    "select (max(release_year)-min(release_year)) / 10.0 as number_of_decades from films"
   ]
  },
  {
   "cell_type": "markdown",
   "metadata": {},
   "source": [
    "### ORDER BY\n",
    "\n",
    "Congratulations on making it this far! You now know how to select and filter your results.\n",
    "\n",
    "In this chapter you'll learn how to sort and group your results to gain further insight. Let's go!\n",
    "\n",
    "In SQL, the ORDER BY keyword is used to sort results in ascending or descending order according to the values of one or more columns.\n",
    "\n",
    "By default ORDER BY will sort in ascending order. If you want to sort the results in descending order, you can use the DESC keyword. For example,\n",
    "\n",
    "SELECT title\n",
    "FROM films\n",
    "ORDER BY release_year DESC;\n",
    "\n",
    "gives you the titles of films sorted by release year, from newest to oldest."
   ]
  },
  {
   "cell_type": "code",
   "execution_count": null,
   "metadata": {},
   "outputs": [],
   "source": [
    "#Get the names of people from the people table, sorted alphabetically.\n",
    "select name  from people order by name\n",
    "#Get the names of people, sorted by birth date.\n",
    "select name from people order by birthdate\n",
    "#Get the birth date and name for every person, in order of when they were born.\n",
    "select birthdate,name from people order by birthdate"
   ]
  },
  {
   "cell_type": "code",
   "execution_count": null,
   "metadata": {},
   "outputs": [],
   "source": [
    "#Get the title of films released in 2000 or 2012, in the order they were released.\n",
    "select title from films where release_year in (2000,2012) order by release_year\n",
    "#Get all details for all films except those released in 2015 and order them by duration.\n",
    "select* from films where release_year<>2015 order by duration\n",
    "#Get the title and gross earnings for movies which begin with the letter 'M' and order the results alphabetically.\n",
    "select title,gross from films where title like 'M%' order by title"
   ]
  },
  {
   "cell_type": "code",
   "execution_count": null,
   "metadata": {},
   "outputs": [],
   "source": [
    "#Get the IMDB score and film ID for every film from the reviews table, sorted from highest to lowest score.\n",
    "select imdb_score,film_id from reviews order by imdb_score DESC\n",
    "#Get the title for every film, in reverse order.\n",
    "select title from films order by title desc\n",
    "#Get the title and duration for every film, in order of longest duration to shortest.\n",
    "select title,duration from films order by duration desc"
   ]
  },
  {
   "cell_type": "markdown",
   "metadata": {},
   "source": [
    "### Sorting multiple columns\n",
    "\n",
    "ORDER BY can also be used to sort on multiple columns. It will sort by the first column specified, then sort by the next, then the next, and so on. For example,\n",
    "\n",
    "SELECT birthdate, name\n",
    "FROM people\n",
    "ORDER BY birthdate, name;\n",
    "\n",
    "sorts on birth dates first (oldest to newest) and then sorts on the names in alphabetical order. The order of columns is important!\n",
    "\n",
    "Try using ORDER BY to sort multiple columns! Remember, to specify multiple columns you separate the column names with a comma."
   ]
  },
  {
   "cell_type": "code",
   "execution_count": null,
   "metadata": {},
   "outputs": [],
   "source": [
    "#Get the birth date and name of people in the people table, in order of when they were born and alphabetically by name.\n",
    "select birthdate,name from people order by birthdate,name\n",
    "#Get the release year, duration, and title of films ordered by their release year and duration.\n",
    "select release_year,duration,title from films order by release_year,duration\n",
    "#Get certifications, release years, and titles of films ordered by certification (alphabetically) and release year.\n",
    "select certification,release_year,title from films order by certification,release_year\n",
    "#Get the names and birthdates of people ordered by name and birth date.\n",
    "select name,birthdate from people order by name,birthdate"
   ]
  },
  {
   "cell_type": "markdown",
   "metadata": {},
   "source": [
    "### GROUP BY\n",
    "\n",
    "Now you know how to sort results! Often you'll need to aggregate results. For example, you might want to count the number of male and female employees in your company. Here, what you want is to group all the males together and count them, and group all the females together and count them. In SQL, GROUP BY allows you to group a result by one or more columns, like so:\n",
    "\n",
    "SELECT sex, count(*)\n",
    "FROM employees\n",
    "GROUP BY sex;\n",
    "#### GROUP BY practice\n",
    "\n",
    "As you've just seen, combining aggregate functions with GROUP BY can yield some powerful results!\n",
    "\n",
    "A word of warning: SQL will return an error if you try to SELECT a field that is not in your GROUP BY clause without using it to calculate some kind of value about the entire group.\n",
    "\n",
    "Note that you can combine GROUP BY with ORDER BY to group your results, calculate something about them, and then order your results. For example,\n",
    "\n",
    "SELECT sex, count(*)\n",
    "FROM employees\n",
    "GROUP BY sex\n",
    "ORDER BY count DESC;\n"
   ]
  },
  {
   "cell_type": "code",
   "execution_count": null,
   "metadata": {},
   "outputs": [],
   "source": [
    "#Get the release year and count of films released in each year.\n",
    "select release_year,count(*)\n",
    "from films \n",
    "group by release_year\n",
    "#Get the release year and average duration of all films, grouped by release year.\n",
    "select release_year,avg(duration) from films group by release_year\n",
    "#Get the release year and largest budget for all films, grouped by release year.\n",
    "select release_year,max(budget)\n",
    "from films group by release_year\n",
    "#Get the IMDB score and count of film reviews grouped by IMDB score in the reviews table.\n",
    "select imdb_score,count(*)\n",
    "from reviews group by imdb_score\n",
    "#Get the release year and lowest gross earnings per release year.\n",
    "select release_year,min(gross)\n",
    "from films\n",
    "group by release_year\n",
    "#Get the language and total gross amount films in each language made.\n",
    "select language,sum(gross)\n",
    "from films\n",
    "group by language\n",
    "#Get the country and total budget spent making movies in each country.\n",
    "select country,sum(budget)\n",
    "from films\n",
    "group by country\n",
    "#Get the release year, country, and highest budget spent making a film for each year, for each country. Sort your results by release year and country.\n",
    "select release_year,country,max(budget)\n",
    "from films\n",
    "group by release_year,country\n",
    "order by release_year,country\n",
    "#Get the country, release year, and lowest amount grossed per release year per country. Order your results by country and release year.\n",
    "select country,release_year,min(gross)\n",
    "from films\n",
    "group by release_year,country\n",
    "order by country,release_year"
   ]
  },
  {
   "cell_type": "markdown",
   "metadata": {},
   "source": [
    "### HAVING a great time\n",
    "\n",
    "In SQL, aggregate functions can't be used in WHERE clauses. For example, the following query is invalid:\n",
    "\n",
    "SELECT release_year\n",
    "FROM films\n",
    "GROUP BY release_year\n",
    "WHERE COUNT(title) > 10;\n",
    "\n",
    "This means that if you want to filter based on the result of an aggregate function, you need another way! That's where the HAVING clause comes in. For example,\n",
    "\n",
    "SELECT release_year\n",
    "FROM films\n",
    "GROUP BY release_year\n",
    "HAVING COUNT(title) > 10;\n"
   ]
  },
  {
   "cell_type": "code",
   "execution_count": null,
   "metadata": {},
   "outputs": [],
   "source": [
    "SELECT release_year, AVG(budget) AS avg_budget, AVG(gross) AS avg_gross\n",
    "FROM films\n",
    "WHERE release_year > 1990\n",
    "GROUP BY release_year\n",
    "HAVING AVG(budget) > 60000000\n",
    "ORDER BY avg_gross DESC;"
   ]
  },
  {
   "cell_type": "code",
   "execution_count": null,
   "metadata": {},
   "outputs": [],
   "source": [
    "-- select country, average budget, average gross\n",
    "select country,avg(budget) as avg_budget,avg(gross) as avg_gross\n",
    "-- from the films table\n",
    "from films\n",
    "-- group by country \n",
    "group by country\n",
    "-- where the country has more than 10 titles\n",
    "having count(title)>10\n",
    "-- order by country\n",
    "order by country\n",
    "-- limit to only show 5 results\n",
    "limit 5"
   ]
  },
  {
   "cell_type": "code",
   "execution_count": null,
   "metadata": {},
   "outputs": [],
   "source": [
    "SELECT title, imdb_score\n",
    "FROM films\n",
    "JOIN reviews\n",
    "ON films.id = reviews.film_id\n",
    "WHERE title = 'To Kill a Mockingbird';"
   ]
  }
 ],
 "metadata": {
  "kernelspec": {
   "display_name": "Python 3",
   "language": "python",
   "name": "python3"
  },
  "language_info": {
   "codemirror_mode": {
    "name": "ipython",
    "version": 3
   },
   "file_extension": ".py",
   "mimetype": "text/x-python",
   "name": "python",
   "nbconvert_exporter": "python",
   "pygments_lexer": "ipython3",
   "version": "3.7.4"
  }
 },
 "nbformat": 4,
 "nbformat_minor": 2
}
